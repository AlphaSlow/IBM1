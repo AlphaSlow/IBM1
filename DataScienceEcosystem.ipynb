{
 "cells": [
  {
   "cell_type": "markdown",
   "id": "fb7097af-0886-4d74-b257-78e0592ccf49",
   "metadata": {},
   "source": [
    "# Data Science Tools and Ecosystem"
   ]
  },
  {
   "cell_type": "markdown",
   "id": "159c12e7-eacf-4bc2-b23b-d51dfb0a754b",
   "metadata": {},
   "source": [
    "In this notebook, Data Science Tools and Ecosystem are summarized."
   ]
  },
  {
   "cell_type": "markdown",
   "id": "fc91bccd-55ed-4a8a-a206-64c347669a05",
   "metadata": {},
   "source": [
    "Some of the popular languages that Data Scientists use are:\n",
    "1. Python\n",
    "2. R\n",
    "3. SQL"
   ]
  },
  {
   "cell_type": "markdown",
   "id": "4c064010-147e-4411-bfc8-19ed8c65307d",
   "metadata": {},
   "source": [
    "Some of the commonly used libraries used by Data Scientists include:\n",
    "1. ggplot (R)\n",
    "2. Pandas (Python)\n",
    "3. Keras (Python)"
   ]
  },
  {
   "cell_type": "markdown",
   "id": "834a8f12-81ae-4b29-ab34-101a221e23d9",
   "metadata": {},
   "source": [
    "| Data Science Tools |\n",
    "| ------------------ |\n",
    "| Anaconda |\n",
    "| Jupyter |\n",
    "| Apache Spark |\n"
   ]
  },
  {
   "cell_type": "markdown",
   "id": "712e35c2-4358-46a2-9dd7-bcc8823f19c7",
   "metadata": {},
   "source": [
    "### Below are a few examples of evaluating arithmetic expressions in Python"
   ]
  },
  {
   "cell_type": "code",
   "execution_count": 3,
   "id": "32683114-5036-4c05-9b1e-f17f76d2a68c",
   "metadata": {},
   "outputs": [
    {
     "data": {
      "text/plain": [
       "17"
      ]
     },
     "execution_count": 3,
     "metadata": {},
     "output_type": "execute_result"
    }
   ],
   "source": [
    "# This a simple arithmetic expression to mutiply then add integers.\n",
    "(3*4)+5"
   ]
  },
  {
   "cell_type": "code",
   "execution_count": 4,
   "id": "8332d12a-08bb-4a8d-a5d6-79d3aa260297",
   "metadata": {},
   "outputs": [
    {
     "data": {
      "text/plain": [
       "3.3333333333333335"
      ]
     },
     "execution_count": 4,
     "metadata": {},
     "output_type": "execute_result"
    }
   ],
   "source": [
    "# This will convert 200 minutes to hours by diving by 60\n",
    "200/60"
   ]
  },
  {
   "cell_type": "markdown",
   "id": "ee1e1c2e-7e76-45cd-a78c-bf01a3f2a18a",
   "metadata": {},
   "source": [
    "<b>Objectives:</b>\n",
    "- list languages used by data scientists\n",
    "- list tools used by data scientists\n",
    "- demonstrate the ability to use markdown and code cells\n",
    "- demonstrate the ability to use GitHub"
   ]
  },
  {
   "cell_type": "markdown",
   "id": "99ad650d-b496-451c-be0b-10eac4be5b92",
   "metadata": {},
   "source": [
    "## Author\n",
    "Ben"
   ]
  },
  {
   "cell_type": "code",
   "execution_count": null,
   "id": "a7d667af-f9ed-4d7a-9ff4-79237a15840f",
   "metadata": {},
   "outputs": [],
   "source": []
  }
 ],
 "metadata": {
  "kernelspec": {
   "display_name": "Python 3 (ipykernel)",
   "language": "python",
   "name": "python3"
  },
  "language_info": {
   "codemirror_mode": {
    "name": "ipython",
    "version": 3
   },
   "file_extension": ".py",
   "mimetype": "text/x-python",
   "name": "python",
   "nbconvert_exporter": "python",
   "pygments_lexer": "ipython3",
   "version": "3.11.7"
  }
 },
 "nbformat": 4,
 "nbformat_minor": 5
}
